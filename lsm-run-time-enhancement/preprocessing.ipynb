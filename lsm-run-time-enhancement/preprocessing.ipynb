{
 "cells": [
  {
   "cell_type": "code",
   "execution_count": null,
   "metadata": {},
   "outputs": [],
   "source": [
    "from skimage import img_as_float, img_as_uint\n",
    "from skimage import io \n",
    "from glob import glob\n",
    "from skimage import transform, filters\n",
    "import os\n",
    "from lsm_utils import process_pmm_datasets, screen_background\n",
    "from pycromanager import Dataset as PDataset\n",
    "from os import path\n",
    "import random\n",
    "from skimage.filters import threshold_otsu, threshold_triangle, threshold_yen\n",
    "import numpy as np\n",
    "import matplotlib.pyplot as plt\n",
    "from tqdm.notebook import tqdm\n"
   ]
  },
  {
   "cell_type": "code",
   "execution_count": null,
   "metadata": {
    "tags": []
   },
   "outputs": [],
   "source": [
    "process_pmm_datasets('pmm_datasets/PA2081b_part2_clean', 'datasets/PA_2081b_part2/target')"
   ]
  },
  {
   "cell_type": "code",
   "execution_count": null,
   "metadata": {
    "tags": []
   },
   "outputs": [],
   "source": [
    "process_pmm_datasets('pmm_datasets/PA2081b_part2_noisy', 'datasets/PA_2081b_part2/input')"
   ]
  },
  {
   "cell_type": "code",
   "execution_count": null,
   "metadata": {},
   "outputs": [],
   "source": [
    "fnames = glob('datasets/PA_2081b_part2/target/*.tif') + glob('datasets/PA_2081b_part2/input/*.tif')"
   ]
  },
  {
   "cell_type": "code",
   "execution_count": null,
   "metadata": {},
   "outputs": [],
   "source": [
    "sampled = random.sample(fnames, min(5000, len(fnames)))\n",
    "intensities = []\n",
    "for fname in sampled:\n",
    "    arr = io.imread(fname)\n",
    "    mask = arr > (threshold_otsu(arr))\n",
    "    arr = arr * mask\n",
    "    intensity = np.sum(arr) / np.count_nonzero(mask)\n",
    "    intensities.append(intensity)\n",
    "threshold = (np.min(np.array(intensities))*0.25 + np.mean(np.array(intensities))*0.75)"
   ]
  },
  {
   "cell_type": "code",
   "execution_count": null,
   "metadata": {
    "tags": []
   },
   "outputs": [],
   "source": [
    "sampled = random.sample(fnames, min(5000, len(fnames)))\n",
    "intensities = []\n",
    "for fname in sampled:\n",
    "    arr = io.imread(fname)\n",
    "    mask = arr > (threshold_otsu(arr))\n",
    "    arr = arr * mask\n",
    "    intensity = np.sum(arr) / np.count_nonzero(mask)\n",
    "    intensities.append(intensity)\n",
    "threshold = (np.min(np.array(intensities))*0.25 + np.mean(np.array(intensities))*0.75)\n",
    "remove_list = []\n",
    "for fname in tqdm(fnames):\n",
    "    arr = io.imread(fname)\n",
    "    mask = arr > (threshold_otsu(arr))\n",
    "    arr = arr * mask\n",
    "    intensity = np.sum(arr) / np.count_nonzero(mask)\n",
    "    if intensity < threshold:\n",
    "        if np.random.uniform(0, 1)>0.1:\n",
    "            remove_list.append(fname)"
   ]
  },
  {
   "cell_type": "code",
   "execution_count": null,
   "metadata": {},
   "outputs": [],
   "source": [
    "remove_name_list = list(set([os.path.basename(i) for i in remove_list]))"
   ]
  },
  {
   "cell_type": "code",
   "execution_count": null,
   "metadata": {},
   "outputs": [],
   "source": [
    "file_dirs = [i for i in fnames if os.path.basename(i) not in remove_name_list]"
   ]
  },
  {
   "cell_type": "code",
   "execution_count": null,
   "metadata": {},
   "outputs": [],
   "source": [
    "_ = plt.hist(intensities, bins=100)\n",
    "plt.show() "
   ]
  },
  {
   "cell_type": "code",
   "execution_count": null,
   "metadata": {},
   "outputs": [],
   "source": [
    "(np.min(np.array(intensities))*0.25 + np.mean(np.array(intensities))*0.75)"
   ]
  },
  {
   "cell_type": "code",
   "execution_count": null,
   "metadata": {},
   "outputs": [],
   "source": [
    "len([i for i in intensities if i<threshold])"
   ]
  },
  {
   "cell_type": "code",
   "execution_count": null,
   "metadata": {
    "tags": []
   },
   "outputs": [],
   "source": [
    "for fname in sampled:\n",
    "    arr = io.imread(fname)\n",
    "    mask = arr > (threshold_otsu(arr))\n",
    "    arr = arr * mask\n",
    "    intensity = np.sum(arr) / np.count_nonzero(mask)\n",
    "    if intensity < 15000:\n",
    "        plt.imshow(arr)\n",
    "        plt.show()"
   ]
  },
  {
   "cell_type": "code",
   "execution_count": null,
   "metadata": {},
   "outputs": [],
   "source": [
    "fnames = glob('datasets/PA_2081b_part2/target/*.tif') + glob('datasets/PA_2081b_part2/input/*.tif')\n",
    "exclude_list = screen_background(fnames)"
   ]
  },
  {
   "cell_type": "code",
   "execution_count": null,
   "metadata": {},
   "outputs": [],
   "source": [
    "remove_name_list = list(set([os.path.basename(i) for i in exclude_list]))\n",
    "file_dirs = [i for i in fnames if os.path.basename(i) not in remove_name_list]"
   ]
  },
  {
   "cell_type": "code",
   "execution_count": null,
   "metadata": {},
   "outputs": [],
   "source": [
    "len(fnames) - len(file_dirs)"
   ]
  },
  {
   "cell_type": "code",
   "execution_count": null,
   "metadata": {},
   "outputs": [],
   "source": [
    "len(remove_name_list)*2"
   ]
  },
  {
   "cell_type": "code",
   "execution_count": null,
   "metadata": {},
   "outputs": [],
   "source": [
    "fnames_t = glob('datasets/PA_2081b_part2/target/*.tif')\n",
    "file_dirs_t = [i for i in fnames_t if os.path.basename(i) not in remove_name_list]"
   ]
  },
  {
   "cell_type": "code",
   "execution_count": null,
   "metadata": {},
   "outputs": [],
   "source": [
    "fnames_i = glob('datasets/PA_2081b_part2/input/*.tif')\n",
    "file_dirs_i = [i for i in fnames_i if os.path.basename(i) not in remove_name_list]"
   ]
  },
  {
   "cell_type": "code",
   "execution_count": 2,
   "metadata": {},
   "outputs": [],
   "source": [
    "from skimage import filters, morphology, io, img_as_uint, exposure, transform\n",
    "from skimage.restoration import denoise_tv_chambolle, denoise_wavelet\n",
    "from glob import glob\n",
    "from tqdm import tqdm\n",
    "import shutil"
   ]
  },
  {
   "cell_type": "code",
   "execution_count": 57,
   "metadata": {},
   "outputs": [
    {
     "name": "stderr",
     "output_type": "stream",
     "text": [
      "100%|██████████████████████████████████████████████████████████████████████████████████████████████████████| 72360/72360 [00:29<00:00, 2419.83it/s]\n"
     ]
    }
   ],
   "source": [
    "fnames = glob('datasets/PA_2081b/input/*.tif')\n",
    "intensity = []\n",
    "for fname in tqdm(fnames):\n",
    "    intensity.append(np.mean(io.imread(fname)))\n",
    "    \n",
    "thresh = np.percentile(np.array(intensity), 90)\n",
    "for fname in tqdm(fnames):\n",
    "    if np.mean(io.imread(fname)) > thresh:\n",
    "        shutil.copyfile(fname, fname.replace('input', 'evaluation/input'))"
   ]
  },
  {
   "cell_type": "code",
   "execution_count": 70,
   "metadata": {},
   "outputs": [
    {
     "name": "stderr",
     "output_type": "stream",
     "text": [
      "100%|████████████████████████████████████████████████████████████████████████████████████████████████████████| 7236/7236 [00:03<00:00, 2266.95it/s]\n"
     ]
    }
   ],
   "source": [
    "fnames = glob('datasets/PA_2081b/evaluation/input/*.tif')\n",
    "for fname in tqdm(fnames):\n",
    "    shutil.copyfile(fname.replace('evaluation/input', 'target'), fname.replace('input', 'target'))"
   ]
  },
  {
   "cell_type": "code",
   "execution_count": 7,
   "metadata": {
    "collapsed": true,
    "jupyter": {
     "outputs_hidden": true
    },
    "tags": []
   },
   "outputs": [
    {
     "name": "stderr",
     "output_type": "stream",
     "text": [
      "  7%|███████▉                                                                                                   | 539/7236 [00:22<04:33, 24.50it/s]\n"
     ]
    },
    {
     "ename": "KeyboardInterrupt",
     "evalue": "",
     "output_type": "error",
     "traceback": [
      "\u001b[0;31m---------------------------------------------------------------------------\u001b[0m",
      "\u001b[0;31mKeyboardInterrupt\u001b[0m                         Traceback (most recent call last)",
      "Input \u001b[0;32mIn [7]\u001b[0m, in \u001b[0;36m<cell line: 2>\u001b[0;34m()\u001b[0m\n\u001b[1;32m      3\u001b[0m img_arr \u001b[38;5;241m=\u001b[39m io\u001b[38;5;241m.\u001b[39mimread(fname)\n\u001b[1;32m      5\u001b[0m \u001b[38;5;66;03m# img_mf = filters.median(img_arr, footprint=morphology.square(3))\u001b[39;00m\n\u001b[0;32m----> 6\u001b[0m img_mf \u001b[38;5;241m=\u001b[39m \u001b[43mdenoise_wavelet\u001b[49m\u001b[43m(\u001b[49m\u001b[43mimg_arr\u001b[49m\u001b[43m,\u001b[49m\u001b[43m \u001b[49m\u001b[43mrescale_sigma\u001b[49m\u001b[38;5;241;43m=\u001b[39;49m\u001b[38;5;28;43;01mTrue\u001b[39;49;00m\u001b[43m)\u001b[49m\n\u001b[1;32m      7\u001b[0m \u001b[38;5;66;03m# img_mf = denoise_tv_chambolle(img_arr, weight=0.05)\u001b[39;00m\n\u001b[1;32m      8\u001b[0m \u001b[38;5;66;03m# img_mf = img_arr\u001b[39;00m\n\u001b[1;32m     10\u001b[0m img_mf \u001b[38;5;241m=\u001b[39m transform\u001b[38;5;241m.\u001b[39mrescale(img_mf, \u001b[38;5;241m2\u001b[39m, order\u001b[38;5;241m=\u001b[39m\u001b[38;5;241m3\u001b[39m)\n",
      "File \u001b[0;32m~/miniconda3/envs/pt/lib/python3.8/site-packages/skimage/_shared/utils.py:394\u001b[0m, in \u001b[0;36mchannel_as_last_axis.__call__.<locals>.fixed_func\u001b[0;34m(*args, **kwargs)\u001b[0m\n\u001b[1;32m    391\u001b[0m channel_axis \u001b[38;5;241m=\u001b[39m kwargs\u001b[38;5;241m.\u001b[39mget(\u001b[38;5;124m'\u001b[39m\u001b[38;5;124mchannel_axis\u001b[39m\u001b[38;5;124m'\u001b[39m, \u001b[38;5;28;01mNone\u001b[39;00m)\n\u001b[1;32m    393\u001b[0m \u001b[38;5;28;01mif\u001b[39;00m channel_axis \u001b[38;5;129;01mis\u001b[39;00m \u001b[38;5;28;01mNone\u001b[39;00m:\n\u001b[0;32m--> 394\u001b[0m     \u001b[38;5;28;01mreturn\u001b[39;00m \u001b[43mfunc\u001b[49m\u001b[43m(\u001b[49m\u001b[38;5;241;43m*\u001b[39;49m\u001b[43margs\u001b[49m\u001b[43m,\u001b[49m\u001b[43m \u001b[49m\u001b[38;5;241;43m*\u001b[39;49m\u001b[38;5;241;43m*\u001b[39;49m\u001b[43mkwargs\u001b[49m\u001b[43m)\u001b[49m\n\u001b[1;32m    396\u001b[0m \u001b[38;5;66;03m# TODO: convert scalars to a tuple in anticipation of eventually\u001b[39;00m\n\u001b[1;32m    397\u001b[0m \u001b[38;5;66;03m#       supporting a tuple of channel axes. Right now, only an\u001b[39;00m\n\u001b[1;32m    398\u001b[0m \u001b[38;5;66;03m#       integer or a single-element tuple is supported, though.\u001b[39;00m\n\u001b[1;32m    399\u001b[0m \u001b[38;5;28;01mif\u001b[39;00m np\u001b[38;5;241m.\u001b[39misscalar(channel_axis):\n",
      "File \u001b[0;32m~/miniconda3/envs/pt/lib/python3.8/site-packages/skimage/_shared/utils.py:348\u001b[0m, in \u001b[0;36mdeprecate_multichannel_kwarg.__call__.<locals>.fixed_func\u001b[0;34m(*args, **kwargs)\u001b[0m\n\u001b[1;32m    345\u001b[0m     kwargs[\u001b[38;5;124m'\u001b[39m\u001b[38;5;124mchannel_axis\u001b[39m\u001b[38;5;124m'\u001b[39m] \u001b[38;5;241m=\u001b[39m convert[kwargs\u001b[38;5;241m.\u001b[39mpop(\u001b[38;5;124m'\u001b[39m\u001b[38;5;124mmultichannel\u001b[39m\u001b[38;5;124m'\u001b[39m)]\n\u001b[1;32m    347\u001b[0m \u001b[38;5;66;03m# Call the function with the fixed arguments\u001b[39;00m\n\u001b[0;32m--> 348\u001b[0m \u001b[38;5;28;01mreturn\u001b[39;00m \u001b[43mfunc\u001b[49m\u001b[43m(\u001b[49m\u001b[38;5;241;43m*\u001b[39;49m\u001b[43margs\u001b[49m\u001b[43m,\u001b[49m\u001b[43m \u001b[49m\u001b[38;5;241;43m*\u001b[39;49m\u001b[38;5;241;43m*\u001b[39;49m\u001b[43mkwargs\u001b[49m\u001b[43m)\u001b[49m\n",
      "File \u001b[0;32m~/miniconda3/envs/pt/lib/python3.8/site-packages/skimage/restoration/_denoise.py:928\u001b[0m, in \u001b[0;36mdenoise_wavelet\u001b[0;34m(image, sigma, wavelet, mode, wavelet_levels, multichannel, convert2ycbcr, method, rescale_sigma, channel_axis)\u001b[0m\n\u001b[1;32m    922\u001b[0m             out[\u001b[38;5;241m.\u001b[39m\u001b[38;5;241m.\u001b[39m\u001b[38;5;241m.\u001b[39m, c] \u001b[38;5;241m=\u001b[39m _wavelet_threshold(image[\u001b[38;5;241m.\u001b[39m\u001b[38;5;241m.\u001b[39m\u001b[38;5;241m.\u001b[39m, c],\n\u001b[1;32m    923\u001b[0m                                              wavelet\u001b[38;5;241m=\u001b[39mwavelet,\n\u001b[1;32m    924\u001b[0m                                              method\u001b[38;5;241m=\u001b[39mmethod,\n\u001b[1;32m    925\u001b[0m                                              sigma\u001b[38;5;241m=\u001b[39msigma[c], mode\u001b[38;5;241m=\u001b[39mmode,\n\u001b[1;32m    926\u001b[0m                                              wavelet_levels\u001b[38;5;241m=\u001b[39mwavelet_levels)\n\u001b[1;32m    927\u001b[0m \u001b[38;5;28;01melse\u001b[39;00m:\n\u001b[0;32m--> 928\u001b[0m     out \u001b[38;5;241m=\u001b[39m \u001b[43m_wavelet_threshold\u001b[49m\u001b[43m(\u001b[49m\u001b[43mimage\u001b[49m\u001b[43m,\u001b[49m\u001b[43m \u001b[49m\u001b[43mwavelet\u001b[49m\u001b[38;5;241;43m=\u001b[39;49m\u001b[43mwavelet\u001b[49m\u001b[43m,\u001b[49m\u001b[43m \u001b[49m\u001b[43mmethod\u001b[49m\u001b[38;5;241;43m=\u001b[39;49m\u001b[43mmethod\u001b[49m\u001b[43m,\u001b[49m\n\u001b[1;32m    929\u001b[0m \u001b[43m                             \u001b[49m\u001b[43msigma\u001b[49m\u001b[38;5;241;43m=\u001b[39;49m\u001b[43msigma\u001b[49m\u001b[43m,\u001b[49m\u001b[43m \u001b[49m\u001b[43mmode\u001b[49m\u001b[38;5;241;43m=\u001b[39;49m\u001b[43mmode\u001b[49m\u001b[43m,\u001b[49m\n\u001b[1;32m    930\u001b[0m \u001b[43m                             \u001b[49m\u001b[43mwavelet_levels\u001b[49m\u001b[38;5;241;43m=\u001b[39;49m\u001b[43mwavelet_levels\u001b[49m\u001b[43m)\u001b[49m\n\u001b[1;32m    932\u001b[0m \u001b[38;5;28;01mif\u001b[39;00m clip_output:\n\u001b[1;32m    933\u001b[0m     clip_range \u001b[38;5;241m=\u001b[39m (\u001b[38;5;241m-\u001b[39m\u001b[38;5;241m1\u001b[39m, \u001b[38;5;241m1\u001b[39m) \u001b[38;5;28;01mif\u001b[39;00m image\u001b[38;5;241m.\u001b[39mmin() \u001b[38;5;241m<\u001b[39m \u001b[38;5;241m0\u001b[39m \u001b[38;5;28;01melse\u001b[39;00m (\u001b[38;5;241m0\u001b[39m, \u001b[38;5;241m1\u001b[39m)\n",
      "File \u001b[0;32m~/miniconda3/envs/pt/lib/python3.8/site-packages/skimage/restoration/_denoise.py:677\u001b[0m, in \u001b[0;36m_wavelet_threshold\u001b[0;34m(image, wavelet, method, threshold, sigma, mode, wavelet_levels)\u001b[0m\n\u001b[1;32m    673\u001b[0m     \u001b[38;5;28;01mraise\u001b[39;00m \u001b[38;5;167;01mValueError\u001b[39;00m(\n\u001b[1;32m    674\u001b[0m         \u001b[38;5;124m\"\u001b[39m\u001b[38;5;124mIf method is None, a threshold must be provided.\u001b[39m\u001b[38;5;124m\"\u001b[39m)\n\u001b[1;32m    675\u001b[0m \u001b[38;5;28;01melif\u001b[39;00m method \u001b[38;5;241m==\u001b[39m \u001b[38;5;124m\"\u001b[39m\u001b[38;5;124mBayesShrink\u001b[39m\u001b[38;5;124m\"\u001b[39m:\n\u001b[1;32m    676\u001b[0m     \u001b[38;5;66;03m# The BayesShrink thresholds from [1]_ in docstring\u001b[39;00m\n\u001b[0;32m--> 677\u001b[0m     threshold \u001b[38;5;241m=\u001b[39m [{key: _bayes_thresh(level[key], var) \u001b[38;5;28;01mfor\u001b[39;00m key \u001b[38;5;129;01min\u001b[39;00m level}\n\u001b[1;32m    678\u001b[0m                  \u001b[38;5;28;01mfor\u001b[39;00m level \u001b[38;5;129;01min\u001b[39;00m dcoeffs]\n\u001b[1;32m    679\u001b[0m \u001b[38;5;28;01melif\u001b[39;00m method \u001b[38;5;241m==\u001b[39m \u001b[38;5;124m\"\u001b[39m\u001b[38;5;124mVisuShrink\u001b[39m\u001b[38;5;124m\"\u001b[39m:\n\u001b[1;32m    680\u001b[0m     \u001b[38;5;66;03m# The VisuShrink thresholds from [2]_ in docstring\u001b[39;00m\n\u001b[1;32m    681\u001b[0m     threshold \u001b[38;5;241m=\u001b[39m _universal_thresh(image, sigma)\n",
      "File \u001b[0;32m~/miniconda3/envs/pt/lib/python3.8/site-packages/skimage/restoration/_denoise.py:677\u001b[0m, in \u001b[0;36m<listcomp>\u001b[0;34m(.0)\u001b[0m\n\u001b[1;32m    673\u001b[0m     \u001b[38;5;28;01mraise\u001b[39;00m \u001b[38;5;167;01mValueError\u001b[39;00m(\n\u001b[1;32m    674\u001b[0m         \u001b[38;5;124m\"\u001b[39m\u001b[38;5;124mIf method is None, a threshold must be provided.\u001b[39m\u001b[38;5;124m\"\u001b[39m)\n\u001b[1;32m    675\u001b[0m \u001b[38;5;28;01melif\u001b[39;00m method \u001b[38;5;241m==\u001b[39m \u001b[38;5;124m\"\u001b[39m\u001b[38;5;124mBayesShrink\u001b[39m\u001b[38;5;124m\"\u001b[39m:\n\u001b[1;32m    676\u001b[0m     \u001b[38;5;66;03m# The BayesShrink thresholds from [1]_ in docstring\u001b[39;00m\n\u001b[0;32m--> 677\u001b[0m     threshold \u001b[38;5;241m=\u001b[39m [{key: _bayes_thresh(level[key], var) \u001b[38;5;28;01mfor\u001b[39;00m key \u001b[38;5;129;01min\u001b[39;00m level}\n\u001b[1;32m    678\u001b[0m                  \u001b[38;5;28;01mfor\u001b[39;00m level \u001b[38;5;129;01min\u001b[39;00m dcoeffs]\n\u001b[1;32m    679\u001b[0m \u001b[38;5;28;01melif\u001b[39;00m method \u001b[38;5;241m==\u001b[39m \u001b[38;5;124m\"\u001b[39m\u001b[38;5;124mVisuShrink\u001b[39m\u001b[38;5;124m\"\u001b[39m:\n\u001b[1;32m    680\u001b[0m     \u001b[38;5;66;03m# The VisuShrink thresholds from [2]_ in docstring\u001b[39;00m\n\u001b[1;32m    681\u001b[0m     threshold \u001b[38;5;241m=\u001b[39m _universal_thresh(image, sigma)\n",
      "File \u001b[0;32m~/miniconda3/envs/pt/lib/python3.8/site-packages/skimage/restoration/_denoise.py:677\u001b[0m, in \u001b[0;36m<dictcomp>\u001b[0;34m(.0)\u001b[0m\n\u001b[1;32m    673\u001b[0m     \u001b[38;5;28;01mraise\u001b[39;00m \u001b[38;5;167;01mValueError\u001b[39;00m(\n\u001b[1;32m    674\u001b[0m         \u001b[38;5;124m\"\u001b[39m\u001b[38;5;124mIf method is None, a threshold must be provided.\u001b[39m\u001b[38;5;124m\"\u001b[39m)\n\u001b[1;32m    675\u001b[0m \u001b[38;5;28;01melif\u001b[39;00m method \u001b[38;5;241m==\u001b[39m \u001b[38;5;124m\"\u001b[39m\u001b[38;5;124mBayesShrink\u001b[39m\u001b[38;5;124m\"\u001b[39m:\n\u001b[1;32m    676\u001b[0m     \u001b[38;5;66;03m# The BayesShrink thresholds from [1]_ in docstring\u001b[39;00m\n\u001b[0;32m--> 677\u001b[0m     threshold \u001b[38;5;241m=\u001b[39m [{key: \u001b[43m_bayes_thresh\u001b[49m\u001b[43m(\u001b[49m\u001b[43mlevel\u001b[49m\u001b[43m[\u001b[49m\u001b[43mkey\u001b[49m\u001b[43m]\u001b[49m\u001b[43m,\u001b[49m\u001b[43m \u001b[49m\u001b[43mvar\u001b[49m\u001b[43m)\u001b[49m \u001b[38;5;28;01mfor\u001b[39;00m key \u001b[38;5;129;01min\u001b[39;00m level}\n\u001b[1;32m    678\u001b[0m                  \u001b[38;5;28;01mfor\u001b[39;00m level \u001b[38;5;129;01min\u001b[39;00m dcoeffs]\n\u001b[1;32m    679\u001b[0m \u001b[38;5;28;01melif\u001b[39;00m method \u001b[38;5;241m==\u001b[39m \u001b[38;5;124m\"\u001b[39m\u001b[38;5;124mVisuShrink\u001b[39m\u001b[38;5;124m\"\u001b[39m:\n\u001b[1;32m    680\u001b[0m     \u001b[38;5;66;03m# The VisuShrink thresholds from [2]_ in docstring\u001b[39;00m\n\u001b[1;32m    681\u001b[0m     threshold \u001b[38;5;241m=\u001b[39m _universal_thresh(image, sigma)\n",
      "File \u001b[0;32m~/miniconda3/envs/pt/lib/python3.8/site-packages/skimage/restoration/_denoise.py:545\u001b[0m, in \u001b[0;36m_bayes_thresh\u001b[0;34m(details, var)\u001b[0m\n\u001b[1;32m    543\u001b[0m dvar \u001b[38;5;241m=\u001b[39m np\u001b[38;5;241m.\u001b[39mmean(details\u001b[38;5;241m*\u001b[39mdetails)\n\u001b[1;32m    544\u001b[0m eps \u001b[38;5;241m=\u001b[39m np\u001b[38;5;241m.\u001b[39mfinfo(details\u001b[38;5;241m.\u001b[39mdtype)\u001b[38;5;241m.\u001b[39meps\n\u001b[0;32m--> 545\u001b[0m thresh \u001b[38;5;241m=\u001b[39m var \u001b[38;5;241m/\u001b[39m np\u001b[38;5;241m.\u001b[39msqrt(\u001b[38;5;28;43mmax\u001b[39;49m\u001b[43m(\u001b[49m\u001b[43mdvar\u001b[49m\u001b[43m \u001b[49m\u001b[38;5;241;43m-\u001b[39;49m\u001b[43m \u001b[49m\u001b[43mvar\u001b[49m\u001b[43m,\u001b[49m\u001b[43m \u001b[49m\u001b[43meps\u001b[49m\u001b[43m)\u001b[49m)\n\u001b[1;32m    546\u001b[0m \u001b[38;5;28;01mreturn\u001b[39;00m thresh\n",
      "\u001b[0;31mKeyboardInterrupt\u001b[0m: "
     ]
    }
   ],
   "source": [
    "fnames = glob('datasets/PA_2081b/evaluation/input/*.tif')\n",
    "for fname in tqdm(fnames):\n",
    "    img_arr = io.imread(fname)\n",
    "    \n",
    "    # img_mf = filters.median(img_arr, footprint=morphology.square(3))\n",
    "    img_mf = denoise_wavelet(img_arr, rescale_sigma=True)\n",
    "    # img_mf = denoise_tv_chambolle(img_arr, weight=0.05)\n",
    "    # img_mf = img_arr\n",
    "    \n",
    "    img_mf = transform.rescale(img_mf, 2, order=3)\n",
    "    # io.imsave(fname, img_as_uint(img_mf), check_contrast=False)"
   ]
  },
  {
   "cell_type": "code",
   "execution_count": 71,
   "metadata": {},
   "outputs": [
    {
     "name": "stderr",
     "output_type": "stream",
     "text": [
      "100%|█████████████████████████████████████████████████████████████████████████████████████████████████████████| 7236/7236 [00:46<00:00, 154.60it/s]\n"
     ]
    }
   ],
   "source": [
    "fnames = glob('datasets/PA_2081b/evaluation/target/*.tif')\n",
    "for fname in tqdm(fnames):\n",
    "    img_arr = img_as_uint( io.imread(fname) )\n",
    "    img_mf = exposure.rescale_intensity(img_arr, in_range=(6265, 37193), out_range=(0, 1))\n",
    "    io.imsave(fname, img_as_uint(img_mf), check_contrast=False)"
   ]
  },
  {
   "cell_type": "code",
   "execution_count": 63,
   "metadata": {},
   "outputs": [],
   "source": [
    "import yaml\n",
    "config = yaml.load(open(\"model_config.yaml\", \"r\"), Loader=yaml.FullLoader)"
   ]
  },
  {
   "cell_type": "code",
   "execution_count": 65,
   "metadata": {},
   "outputs": [
    {
     "data": {
      "text/plain": [
       "{'adv-interval': 1,\n",
       " 'average-factor': 50,\n",
       " 'batch-size': 8,\n",
       " 'blindspot-rate': 0.05,\n",
       " 'cnn-base-channel': 8,\n",
       " 'dataset': 'datasets/PA_2081b',\n",
       " 'gan-lambda': 10,\n",
       " 'gpu': True,\n",
       " 'image-channel': 1,\n",
       " 'image-extension': 'tif',\n",
       " 'iter-per-epoch': 500,\n",
       " 'iterations': 100000,\n",
       " 'learning-rate': 0.0001,\n",
       " 'load-weights': 'supervised2022-07-22_21-45-35',\n",
       " 'loss-gain': 1000,\n",
       " 'norm-range': [5432, 43954],\n",
       " 'norm-range-target': [6265, 37193],\n",
       " 'only-pixel-loss': False,\n",
       " 'percep-lambda': 0.5,\n",
       " 'resolution': 512,\n",
       " 'test-interval': 5,\n",
       " 'threads': 32,\n",
       " 'up-scale-factor': 2}"
      ]
     },
     "execution_count": 65,
     "metadata": {},
     "output_type": "execute_result"
    }
   ],
   "source": [
    "config"
   ]
  },
  {
   "cell_type": "code",
   "execution_count": null,
   "metadata": {},
   "outputs": [],
   "source": []
  }
 ],
 "metadata": {
  "kernelspec": {
   "display_name": "Python 3 (ipykernel)",
   "language": "python",
   "name": "python3"
  },
  "language_info": {
   "codemirror_mode": {
    "name": "ipython",
    "version": 3
   },
   "file_extension": ".py",
   "mimetype": "text/x-python",
   "name": "python",
   "nbconvert_exporter": "python",
   "pygments_lexer": "ipython3",
   "version": "3.8.13"
  },
  "vscode": {
   "interpreter": {
    "hash": "de88db708fd7569f2666ff37f921dc0f88a8459546879a55f00d65d0006c4c3e"
   }
  }
 },
 "nbformat": 4,
 "nbformat_minor": 4
}
