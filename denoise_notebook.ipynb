{
 "cells": [
  {
   "cell_type": "code",
   "execution_count": 1,
   "metadata": {},
   "outputs": [],
   "source": [
    "# import denoising tool as a module\n",
    "import matplotlib.pyplot as plt\n",
    "from denoise_tool.denoise_script import compute_denoise\n"
   ]
  },
  {
   "cell_type": "code",
   "execution_count": 2,
   "metadata": {},
   "outputs": [],
   "source": [
    "image_dir = 'test_data'\n",
    "image_name = 'PB522-14-MAX_Fused.tif'"
   ]
  },
  {
   "cell_type": "code",
   "execution_count": 3,
   "metadata": {},
   "outputs": [
    {
     "name": "stdout",
     "output_type": "stream",
     "text": [
      "test_data\\*.tif\n"
     ]
    },
    {
     "name": "stderr",
     "output_type": "stream",
     "text": [
      "100%|██████████| 1/1 [00:00<00:00, 250.74it/s]\n"
     ]
    },
    {
     "ename": "FileNotFoundError",
     "evalue": "[Errno 2] No such file or directory: '.\\\\model_config.yaml'",
     "output_type": "error",
     "traceback": [
      "\u001b[1;31m---------------------------------------------------------------------------\u001b[0m",
      "\u001b[1;31mFileNotFoundError\u001b[0m                         Traceback (most recent call last)",
      "\u001b[1;32md:\\User\\locisuer\\Documents\\GitHub\\realtime-lsm-tools\\denoise_notebook.ipynb Cell 3\u001b[0m line \u001b[0;36m1\n\u001b[1;32m----> <a href='vscode-notebook-cell:/d%3A/User/locisuer/Documents/GitHub/realtime-lsm-tools/denoise_notebook.ipynb#W3sZmlsZQ%3D%3D?line=0'>1</a>\u001b[0m output \u001b[39m=\u001b[39m compute_denoise(image_dir\u001b[39m=\u001b[39;49mimage_dir, image_name\u001b[39m=\u001b[39;49mimage_name)\n\u001b[0;32m      <a href='vscode-notebook-cell:/d%3A/User/locisuer/Documents/GitHub/realtime-lsm-tools/denoise_notebook.ipynb#W3sZmlsZQ%3D%3D?line=1'>2</a>\u001b[0m plt\u001b[39m.\u001b[39mimshow(output, cmap\u001b[39m=\u001b[39m\u001b[39m'\u001b[39m\u001b[39mgray\u001b[39m\u001b[39m'\u001b[39m)\n",
      "File \u001b[1;32md:\\User\\locisuer\\Documents\\GitHub\\realtime-lsm-tools\\denoise_tool\\denoise_script.py:20\u001b[0m, in \u001b[0;36mcompute_denoise\u001b[1;34m(image_dir, image_name)\u001b[0m\n\u001b[0;32m     18\u001b[0m \u001b[39mdef\u001b[39;00m \u001b[39mcompute_denoise\u001b[39m(image_dir: \u001b[39mstr\u001b[39m \u001b[39m=\u001b[39m \u001b[39m\"\u001b[39m\u001b[39mcropped_sample_data\u001b[39m\u001b[39m\"\u001b[39m, image_name: \u001b[39mstr\u001b[39m \u001b[39m=\u001b[39m \u001b[39m\"\u001b[39m\u001b[39mPB522-14-MAX_Fused.tif\u001b[39m\u001b[39m\"\u001b[39m):\n\u001b[0;32m     19\u001b[0m     vmin, vmax, fail_names \u001b[39m=\u001b[39m compute_norm_range(image_dir, ext\u001b[39m=\u001b[39m\u001b[39m'\u001b[39m\u001b[39mtif\u001b[39m\u001b[39m'\u001b[39m, percentiles\u001b[39m=\u001b[39m(\u001b[39m1\u001b[39m, \u001b[39m99.5\u001b[39m), sample_r\u001b[39m=\u001b[39m\u001b[39m1\u001b[39m)\n\u001b[1;32m---> 20\u001b[0m     config \u001b[39m=\u001b[39m yaml\u001b[39m.\u001b[39mload(\u001b[39mopen\u001b[39;49m(os\u001b[39m.\u001b[39;49mpath\u001b[39m.\u001b[39;49mjoin(\u001b[39m\"\u001b[39;49m\u001b[39m.\u001b[39;49m\u001b[39m\"\u001b[39;49m, \u001b[39m\"\u001b[39;49m\u001b[39mmodel_config.yaml\u001b[39;49m\u001b[39m\"\u001b[39;49m), \u001b[39m\"\u001b[39;49m\u001b[39mr\u001b[39;49m\u001b[39m\"\u001b[39;49m), Loader\u001b[39m=\u001b[39myaml\u001b[39m.\u001b[39mFullLoader)\n\u001b[0;32m     21\u001b[0m     config[\u001b[39m'\u001b[39m\u001b[39mdataset\u001b[39m\u001b[39m'\u001b[39m] \u001b[39m=\u001b[39m image_dir\n\u001b[0;32m     22\u001b[0m     config[\u001b[39m'\u001b[39m\u001b[39mnorm-range\u001b[39m\u001b[39m'\u001b[39m] \u001b[39m=\u001b[39m [\u001b[39mint\u001b[39m(vmin), \u001b[39mint\u001b[39m(vmax)]\n",
      "\u001b[1;31mFileNotFoundError\u001b[0m: [Errno 2] No such file or directory: '.\\\\model_config.yaml'"
     ]
    }
   ],
   "source": [
    "output = compute_denoise(image_dir=image_dir, image_name=image_name)\n",
    "plt.imshow(output, cmap='gray')"
   ]
  },
  {
   "cell_type": "code",
   "execution_count": null,
   "metadata": {},
   "outputs": [],
   "source": []
  },
  {
   "cell_type": "code",
   "execution_count": null,
   "metadata": {},
   "outputs": [],
   "source": []
  }
 ],
 "metadata": {
  "kernelspec": {
   "display_name": "lsm-run-time-enhancement",
   "language": "python",
   "name": "python3"
  },
  "language_info": {
   "codemirror_mode": {
    "name": "ipython",
    "version": 3
   },
   "file_extension": ".py",
   "mimetype": "text/x-python",
   "name": "python",
   "nbconvert_exporter": "python",
   "pygments_lexer": "ipython3",
   "version": "3.11.6"
  }
 },
 "nbformat": 4,
 "nbformat_minor": 2
}
