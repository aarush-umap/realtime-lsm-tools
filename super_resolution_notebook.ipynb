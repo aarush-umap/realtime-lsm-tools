{
 "cells": [
  {
   "cell_type": "code",
   "execution_count": 1,
   "metadata": {},
   "outputs": [],
   "source": [
    "from super_resolution_tool.super_resolution_script import compute_sr\n"
   ]
  },
  {
   "cell_type": "code",
   "execution_count": 2,
   "metadata": {},
   "outputs": [],
   "source": [
    "image_dir = 'test_data'\n",
    "image_name = 'PB522-14-MAX_Fused.tif'"
   ]
  },
  {
   "cell_type": "code",
   "execution_count": 3,
   "metadata": {},
   "outputs": [
    {
     "name": "stdout",
     "output_type": "stream",
     "text": [
      "test_data\\*.tif\n"
     ]
    },
    {
     "name": "stderr",
     "output_type": "stream",
     "text": [
      "100%|██████████| 1/1 [00:00<00:00, 250.66it/s]\n"
     ]
    },
    {
     "ename": "FileNotFoundError",
     "evalue": "[Errno 2] No such file or directory: 'model_config.yaml'",
     "output_type": "error",
     "traceback": [
      "\u001b[1;31m---------------------------------------------------------------------------\u001b[0m",
      "\u001b[1;31mFileNotFoundError\u001b[0m                         Traceback (most recent call last)",
      "\u001b[1;32md:\\User\\locisuer\\Documents\\GitHub\\realtime-lsm-tools\\super_resolution_notebook.ipynb Cell 3\u001b[0m line \u001b[0;36m2\n\u001b[0;32m      <a href='vscode-notebook-cell:/d%3A/User/locisuer/Documents/GitHub/realtime-lsm-tools/super_resolution_notebook.ipynb#W2sZmlsZQ%3D%3D?line=0'>1</a>\u001b[0m \u001b[39mimport\u001b[39;00m \u001b[39mmatplotlib\u001b[39;00m\u001b[39m.\u001b[39;00m\u001b[39mpyplot\u001b[39;00m \u001b[39mas\u001b[39;00m \u001b[39mplt\u001b[39;00m\n\u001b[1;32m----> <a href='vscode-notebook-cell:/d%3A/User/locisuer/Documents/GitHub/realtime-lsm-tools/super_resolution_notebook.ipynb#W2sZmlsZQ%3D%3D?line=1'>2</a>\u001b[0m output \u001b[39m=\u001b[39m compute_sr(image_dir\u001b[39m=\u001b[39;49mimage_dir, image_name\u001b[39m=\u001b[39;49mimage_name)\n\u001b[0;32m      <a href='vscode-notebook-cell:/d%3A/User/locisuer/Documents/GitHub/realtime-lsm-tools/super_resolution_notebook.ipynb#W2sZmlsZQ%3D%3D?line=2'>3</a>\u001b[0m plt\u001b[39m.\u001b[39mimshow(output, cmap\u001b[39m=\u001b[39m\u001b[39m'\u001b[39m\u001b[39mgray\u001b[39m\u001b[39m'\u001b[39m)\n",
      "File \u001b[1;32md:\\User\\locisuer\\Documents\\GitHub\\realtime-lsm-tools\\super_resolution_tool\\super_resolution_script.py:13\u001b[0m, in \u001b[0;36mcompute_sr\u001b[1;34m(image_dir, image_name)\u001b[0m\n\u001b[0;32m     10\u001b[0m \u001b[39mdef\u001b[39;00m \u001b[39mcompute_sr\u001b[39m(image_dir: \u001b[39mstr\u001b[39m \u001b[39m=\u001b[39m \u001b[39m\"\u001b[39m\u001b[39mcropped_sample_data\u001b[39m\u001b[39m\"\u001b[39m, image_name: \u001b[39mstr\u001b[39m \u001b[39m=\u001b[39m \u001b[39m\"\u001b[39m\u001b[39mPB522-14-MAX_Fused.tif\u001b[39m\u001b[39m\"\u001b[39m):\n\u001b[0;32m     12\u001b[0m     vmin, vmax, fail_names \u001b[39m=\u001b[39m compute_norm_range(image_dir, ext\u001b[39m=\u001b[39m\u001b[39m'\u001b[39m\u001b[39mtif\u001b[39m\u001b[39m'\u001b[39m, percentiles\u001b[39m=\u001b[39m(\u001b[39m1\u001b[39m, \u001b[39m99.5\u001b[39m), sample_r\u001b[39m=\u001b[39m\u001b[39m1\u001b[39m)\n\u001b[1;32m---> 13\u001b[0m     config \u001b[39m=\u001b[39m yaml\u001b[39m.\u001b[39mload(\u001b[39mopen\u001b[39;49m(\u001b[39m\"\u001b[39;49m\u001b[39mmodel_config.yaml\u001b[39;49m\u001b[39m\"\u001b[39;49m, \u001b[39m\"\u001b[39;49m\u001b[39mr\u001b[39;49m\u001b[39m\"\u001b[39;49m), Loader\u001b[39m=\u001b[39myaml\u001b[39m.\u001b[39mFullLoader)\n\u001b[0;32m     14\u001b[0m     config[\u001b[39m'\u001b[39m\u001b[39mnorm-range\u001b[39m\u001b[39m'\u001b[39m] \u001b[39m=\u001b[39m [\u001b[39mint\u001b[39m(vmin), \u001b[39mint\u001b[39m(vmax)]\n\u001b[0;32m     16\u001b[0m     enhancer \u001b[39m=\u001b[39m Enhancer(config, scale_factor\u001b[39m=\u001b[39m\u001b[39m2\u001b[39m, perceptual_loss\u001b[39m=\u001b[39m\u001b[39mFalse\u001b[39;00m, adversarial_loss\u001b[39m=\u001b[39m\u001b[39mFalse\u001b[39;00m)\n",
      "\u001b[1;31mFileNotFoundError\u001b[0m: [Errno 2] No such file or directory: 'model_config.yaml'"
     ]
    }
   ],
   "source": [
    "import matplotlib.pyplot as plt\n",
    "output = compute_sr(image_dir=image_dir, image_name=image_name)\n",
    "plt.imshow(output, cmap='gray')"
   ]
  },
  {
   "cell_type": "code",
   "execution_count": null,
   "metadata": {},
   "outputs": [],
   "source": []
  }
 ],
 "metadata": {
  "kernelspec": {
   "display_name": "lsm-run-time-enhancement",
   "language": "python",
   "name": "python3"
  },
  "language_info": {
   "codemirror_mode": {
    "name": "ipython",
    "version": 3
   },
   "file_extension": ".py",
   "mimetype": "text/x-python",
   "name": "python",
   "nbconvert_exporter": "python",
   "pygments_lexer": "ipython3",
   "version": "3.11.6"
  }
 },
 "nbformat": 4,
 "nbformat_minor": 2
}
