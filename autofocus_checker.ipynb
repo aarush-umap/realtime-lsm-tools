{
 "cells": [
  {
   "cell_type": "markdown",
   "metadata": {},
   "source": [
    "# Autofocus Checker\n",
    "Built to evaluate autofocusing algorithms from Autofocusing Algorithm Selection in Computer Microscopy Yu Sun et al. 2005"
   ]
  },
  {
   "cell_type": "markdown",
   "metadata": {},
   "source": [
    "### Imports"
   ]
  },
  {
   "cell_type": "code",
   "execution_count": null,
   "metadata": {},
   "outputs": [],
   "source": [
    "from pycromanager import Core, Studio\n",
    "import matplotlib.pyplot as plt\n",
    "import numpy as np\n",
    "import autofocus_tools_loci.autofocus_tools as af"
   ]
  },
  {
   "cell_type": "markdown",
   "metadata": {},
   "source": [
    "### Init utility functions for microscope control\n",
    "\n",
    "1. init_pycromanager() instantiates objects to connect to a microscope allowing for control\n",
    "\n",
    "2. snap_image() takes a picture from the microscope and shapes it into a 2D or 3D ndarray based on if it's an RGB image or not"
   ]
  },
  {
   "cell_type": "code",
   "execution_count": null,
   "metadata": {},
   "outputs": [],
   "source": [
    "def init_pycromanager():\n",
    "    core = Core()\n",
    "    studio = Studio()\n",
    "    core.set_timeout_ms(20000)\n",
    "    return core, studio\n",
    "core,studio = init_pycromanager()"
   ]
  },
  {
   "cell_type": "code",
   "execution_count": null,
   "metadata": {},
   "outputs": [],
   "source": [
    "def snap_image(core, rgb=True, flip_channel=True,brightfield_processing_function=None, show_image= False):\n",
    "    \n",
    "    core.snap_image()\n",
    "    tagged_image = core.get_tagged_image()\n",
    "    if rgb == True:\n",
    "        pixels = np.reshape(\n",
    "            tagged_image.pix,\n",
    "            newshape=[tagged_image.tags[\"Height\"], tagged_image.tags[\"Width\"], 4],\n",
    "            )\n",
    "        pixels = pixels[:, :, 0:3]\n",
    "        if flip_channel:\n",
    "            pixels = np.flip(pixels, 2)\n",
    "        if brightfield_processing_function:\n",
    "            pixels = brightfield_processing_function(pixels)\n",
    "    else:\n",
    "        pixels = np.reshape(\n",
    "            tagged_image.pix,\n",
    "            newshape=[tagged_image.tags[\"Height\"], tagged_image.tags[\"Width\"]],\n",
    "            )\n",
    "    \n",
    "    if show_image:\n",
    "        plt.imshow(pixels)\n",
    "    \n",
    "    return pixels"
   ]
  },
  {
   "cell_type": "markdown",
   "metadata": {},
   "source": [
    "### Set up variables and checks"
   ]
  },
  {
   "cell_type": "code",
   "execution_count": null,
   "metadata": {},
   "outputs": [],
   "source": [
    "IS_RGB = True\n",
    "if core.get_property('Core', 'Focus') != 'ZStage:Z:32':\n",
    "    print(f\"WARNING: FOCUS DEVICE SET TO: {core.get_property('Core', 'Focus')}\")\n",
    "z_start = core.get_position()\n",
    "z_range = 25"
   ]
  },
  {
   "cell_type": "code",
   "execution_count": null,
   "metadata": {},
   "outputs": [],
   "source": [
    "autofocus_methods = [\n",
    "    af.threshold_absolute_gradient,\n",
    "    af.squared_gradient,\n",
    "    af.brenner_gradient,\n",
    "    af.tenenbaum_gradient,\n",
    "    af.sum_of_modified_laplace,\n",
    "    af.energy_laplace,\n",
    "    af.defocused_variance,\n",
    "    af.normalized_variance,\n",
    "    af.autocorrelation,\n",
    "    af.standard_deviation_based_correlation,\n",
    "    af.range_algorithm,\n",
    "    af.thresholded_content,\n",
    "    af.thresholded_pixel_count,\n",
    "    af.image_power\n",
    "]"
   ]
  },
  {
   "cell_type": "markdown",
   "metadata": {},
   "source": [
    "### Shift z-stage and test all autofocus methods"
   ]
  },
  {
   "cell_type": "code",
   "execution_count": null,
   "metadata": {},
   "outputs": [],
   "source": [
    "img_arr = []\n",
    "for k in range(-25,+25,3):\n",
    "    core.set_position(z_start+k)\n",
    "    core.wait_for_device(core.get_focus_device())\n",
    "    print(k,core.get_position())\n",
    "    img_arr.append(snap_image(core,show_image=False))\n",
    "    plt.plot(k, af.threshold_absolute_gradient(img_arr[-1].mean(2)),'or')"
   ]
  }
 ],
 "metadata": {
  "kernelspec": {
   "display_name": "lsm-run-time-enhancement",
   "language": "python",
   "name": "python3"
  },
  "language_info": {
   "name": "python",
   "version": "3.11.6"
  }
 },
 "nbformat": 4,
 "nbformat_minor": 2
}
